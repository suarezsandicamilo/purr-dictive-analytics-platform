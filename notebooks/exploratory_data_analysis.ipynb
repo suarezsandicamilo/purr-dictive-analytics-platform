{
 "cells": [
  {
   "cell_type": "code",
   "execution_count": null,
   "id": "d516c823",
   "metadata": {},
   "outputs": [],
   "source": [
    "import pandas as pd\n",
    "import matplotlib.pyplot as plt\n",
    "import seaborn as sns\n",
    "\n",
    "df = pd.read_csv('../data/processed/pokemon.csv')"
   ]
  },
  {
   "cell_type": "code",
   "execution_count": null,
   "id": "99423c33",
   "metadata": {},
   "outputs": [],
   "source": [
    "stats = ['hp', 'attack', 'defense', 'sp_attack', 'sp_defense', 'speed']\n",
    "for stat in stats:\n",
    "  plt.figure(figsize=(6,4))\n",
    "  sns.histplot(df[stat], kde=True, color='skyblue')\n",
    "  plt.title(f'Distribution of {stat.upper()}')\n",
    "  plt.xlabel(stat.upper())\n",
    "  plt.ylabel('Count')\n",
    "  plt.tight_layout()\n",
    "  plt.show()"
   ]
  },
  {
   "cell_type": "code",
   "execution_count": null,
   "id": "560e141f",
   "metadata": {},
   "outputs": [],
   "source": [
    "corr_matrix = df[['hp','attack','defense','sp_attack','sp_defense','speed']].corr()\n",
    "plt.figure(figsize=(6,5))\n",
    "sns.heatmap(corr_matrix, annot=True, cmap='coolwarm')\n",
    "plt.title('Correlation of Base Stats')\n",
    "plt.tight_layout()\n",
    "plt.show()"
   ]
  }
 ],
 "metadata": {
  "language_info": {
   "name": "python"
  }
 },
 "nbformat": 4,
 "nbformat_minor": 5
}
